{
 "cells": [
  {
   "cell_type": "markdown",
   "metadata": {
    "id": "o8ZcbDcrGmow"
   },
   "source": [
    "Install Required Libraries"
   ]
  },
  {
   "cell_type": "code",
   "execution_count": null,
   "metadata": {
    "id": "avZzhq48G0Zm"
   },
   "outputs": [],
   "source": [
    "#pip install numpy\n",
    "#pip install pandas opencv-python keras tensorflow\n",
    "#pip install pandas opencv-python keras tensorflow"
   ]
  },
  {
   "cell_type": "markdown",
   "metadata": {
    "id": "KaEO3bhjHBVb"
   },
   "source": [
    "1 - Import Libraries"
   ]
  },
  {
   "cell_type": "code",
   "execution_count": 2,
   "metadata": {
    "id": "dluAeQFNHGGs"
   },
   "outputs": [],
   "source": [
    "import numpy as np\n",
    "import pandas as pd\n",
    "import matplotlib.pyplot as plt\n",
    "import tensorflow as tf\n",
    "from tensorflow import keras\n",
    "from keras.models import load_model\n",
    "import cv2\n",
    "import numpy as np\n",
    "import matplotlib.pyplot as plt\n",
    "from PIL import Image\n",
    "import cv2"
   ]
  },
  {
   "cell_type": "markdown",
   "metadata": {
    "id": "nb5AabM1HNAe"
   },
   "source": [
    "2- Import Dataset"
   ]
  },
  {
   "cell_type": "code",
   "execution_count": 3,
   "metadata": {
    "id": "zJ9FL4OVHQr5"
   },
   "outputs": [
    {
     "name": "stdout",
     "output_type": "stream",
     "text": [
      "Downloading data from https://storage.googleapis.com/tensorflow/tf-keras-datasets/mnist.npz\n",
      "\u001b[1m11490434/11490434\u001b[0m \u001b[32m━━━━━━━━━━━━━━━━━━━━\u001b[0m\u001b[37m\u001b[0m \u001b[1m1s\u001b[0m 0us/step\n"
     ]
    }
   ],
   "source": [
    "(x_train, y_train), (x_test, y_test) = keras.datasets.mnist.load_data()          # Loads MNIST dataset into training and test sets"
   ]
  },
  {
   "cell_type": "code",
   "execution_count": 4,
   "metadata": {
    "colab": {
     "base_uri": "https://localhost:8080/"
    },
    "executionInfo": {
     "elapsed": 15,
     "status": "ok",
     "timestamp": 1757803455366,
     "user": {
      "displayName": "Mahir Kardame",
      "userId": "03364185381333698645"
     },
     "user_tz": -60
    },
    "id": "VJJgawi6HUFw",
    "outputId": "ea3514d8-4456-4ba6-9a5e-22bd83a0932c"
   },
   "outputs": [
    {
     "data": {
      "text/plain": [
       "(60000, 28, 28)"
      ]
     },
     "execution_count": 4,
     "metadata": {},
     "output_type": "execute_result"
    }
   ],
   "source": [
    "x_train.shape  #60k training images which all have a 28x28 pixel"
   ]
  },
  {
   "cell_type": "code",
   "execution_count": 5,
   "metadata": {
    "colab": {
     "base_uri": "https://localhost:8080/"
    },
    "executionInfo": {
     "elapsed": 6,
     "status": "ok",
     "timestamp": 1757803455374,
     "user": {
      "displayName": "Mahir Kardame",
      "userId": "03364185381333698645"
     },
     "user_tz": -60
    },
    "id": "UtpA4lmhHdJW",
    "outputId": "0a659499-dd1d-4fd1-ee7a-fe20039e6878"
   },
   "outputs": [
    {
     "name": "stdout",
     "output_type": "stream",
     "text": [
      "(10000, 28, 28) (10000,)\n"
     ]
    }
   ],
   "source": [
    "print(x_test.shape, y_test.shape)                                                # Prints test data shapes: (10000, 28, 28) for images and (10000,) for labels"
   ]
  },
  {
   "cell_type": "code",
   "execution_count": 6,
   "metadata": {
    "colab": {
     "base_uri": "https://localhost:8080/",
     "height": 465
    },
    "executionInfo": {
     "elapsed": 155,
     "status": "ok",
     "timestamp": 1757803455530,
     "user": {
      "displayName": "Mahir Kardame",
      "userId": "03364185381333698645"
     },
     "user_tz": -60
    },
    "id": "TlUWKgd3Hjmr",
    "outputId": "8eb954bc-6de0-461e-d65b-c5b2e59f832f"
   },
   "outputs": [
    {
     "name": "stdout",
     "output_type": "stream",
     "text": [
      "label= 3\n"
     ]
    },
    {
     "data": {
      "text/plain": [
       "<matplotlib.image.AxesImage at 0x27015dca090>"
      ]
     },
     "execution_count": 6,
     "metadata": {},
     "output_type": "execute_result"
    },
    {
     "data": {
      "image/png": "[encoded data removed]",
      "text/plain": [
       "<Figure size 640x480 with 1 Axes>"
      ]
     },
     "metadata": {},
     "output_type": "display_data"
    }
   ],
   "source": [
    "print(\"label=\",y_train[12])                                                      # Prints the label (digit) of the 13th training image\n",
    "plt.imshow(x_train[12])                                                          # Displays the 13th training image as a grayscale image"
   ]
  },
  {
   "cell_type": "markdown",
   "metadata": {
    "id": "Vq-GY10LHz0e"
   },
   "source": [
    "3- Preprocessing the Data"
   ]
  },
  {
   "cell_type": "code",
   "execution_count": 7,
   "metadata": {
    "colab": {
     "base_uri": "https://localhost:8080/"
    },
    "executionInfo": {
     "elapsed": 20,
     "status": "ok",
     "timestamp": 1757803455552,
     "user": {
      "displayName": "Mahir Kardame",
      "userId": "03364185381333698645"
     },
     "user_tz": -60
    },
    "id": "CtZn_saEH7KJ",
    "outputId": "30273a4e-ada8-4f7e-c316-b54250fc3484"
   },
   "outputs": [
    {
     "name": "stdout",
     "output_type": "stream",
     "text": [
      "255 0 255 0\n"
     ]
    }
   ],
   "source": [
    "print(x_train.max(), x_train.min(), x_test.max(), x_test.min())                  # Prints max and min pixel values in training and test datasets"
   ]
  },
  {
   "cell_type": "code",
   "execution_count": 8,
   "metadata": {
    "colab": {
     "base_uri": "https://localhost:8080/"
    },
    "executionInfo": {
     "elapsed": 21,
     "status": "ok",
     "timestamp": 1757803455575,
     "user": {
      "displayName": "Mahir Kardame",
      "userId": "03364185381333698645"
     },
     "user_tz": -60
    },
    "id": "LXfs8yXiI2iX",
    "outputId": "90d1701c-2980-4b8e-ceec-03d4d9abcc11"
   },
   "outputs": [
    {
     "data": {
      "text/plain": [
       "array([5, 0, 4, 1, 9, 2], dtype=uint8)"
      ]
     },
     "execution_count": 8,
     "metadata": {},
     "output_type": "execute_result"
    }
   ],
   "source": [
    "y_train[:6]                                                                      # Displays the first 6 digits from the training dataset"
   ]
  },
  {
   "cell_type": "code",
   "execution_count": 9,
   "metadata": {
    "id": "5yob5gCUJBj8"
   },
   "outputs": [],
   "source": [
    "x_train_processed, x_test_processed = x_train / 255.0, x_test / 255.0            # Normalizes pixel values to range [0, 1] for training and test data      #Raw MNIST data is stored as an integer between 0-255, we transform it to 0 and 1"
   ]
  },
  {
   "cell_type": "code",
   "execution_count": 10,
   "metadata": {
    "colab": {
     "base_uri": "https://localhost:8080/"
    },
    "executionInfo": {
     "elapsed": 97,
     "status": "ok",
     "timestamp": 1757803455879,
     "user": {
      "displayName": "Mahir Kardame",
      "userId": "03364185381333698645"
     },
     "user_tz": -60
    },
    "id": "0wkhi_4vJeYs",
    "outputId": "4b38f2b7-43ab-45d6-e57a-1967688dbd77"
   },
   "outputs": [
    {
     "name": "stdout",
     "output_type": "stream",
     "text": [
      "1.0 0.0 1.0 0.0\n"
     ]
    }
   ],
   "source": [
    "\n",
    "print(x_train_processed.max(), x_train_processed.min(), x_test_processed.max(),\n",
    "      x_test_processed.min())                                                    # Prints the max and min pixel values after normalization (expectance is 1 and 0)"
   ]
  },
  {
   "cell_type": "markdown",
   "metadata": {
    "id": "FzJwFd9aJrkT"
   },
   "source": [
    "4- Build a clasifer using MLP"
   ]
  },
  {
   "cell_type": "code",
   "execution_count": 11,
   "metadata": {
    "id": "1XeeZ5hZJ26v"
   },
   "outputs": [],
   "source": [
    "from keras.models import Sequential                                              # Import Sequential model\n",
    "from keras.layers import Convolution2D, MaxPooling2D                             # Import convolution and max pooling layers for feature extraction\n",
    "from keras.layers import Flatten, Dense, Dropout                                 # Import layers for flattening, fully connected  layers, and dropout\n",
    "from keras.optimizers import Adam                                                # Import Adam optimizer for training the neural network\n"
   ]
  },
  {
   "cell_type": "code",
   "execution_count": 12,
   "metadata": {
    "colab": {
     "base_uri": "https://localhost:8080/"
    },
    "executionInfo": {
     "elapsed": 84,
     "status": "ok",
     "timestamp": 1757803455965,
     "user": {
      "displayName": "Mahir Kardame",
      "userId": "03364185381333698645"
     },
     "user_tz": -60
    },
    "id": "QzDbnnr6KI8k",
    "outputId": "9407c0c2-82fb-4b96-ec04-40279d7a0637"
   },
   "outputs": [
    {
     "name": "stderr",
     "output_type": "stream",
     "text": [
      "c:\\Users\\Mahir Kardame\\AppData\\Local\\Programs\\Python\\Python311\\Lib\\site-packages\\keras\\src\\layers\\reshaping\\flatten.py:37: UserWarning: Do not pass an `input_shape`/`input_dim` argument to a layer. When using Sequential models, prefer using an `Input(shape)` object as the first layer in the model instead.\n",
      "  super().__init__(**kwargs)\n"
     ]
    }
   ],
   "source": [
    "model = keras.models.Sequential([                                                # Create a Sequential model (layers stacked in order)\n",
    "    keras.layers.Flatten(input_shape=(28, 28)),                                  # Flatten 28x28 images into a 1D vector of 784 values\n",
    "    keras.layers.Dense(128, activation='relu'),                                  # Fully connected hidden layer with 128 neurons, ReLU activation\n",
    "    keras.layers.Dropout(0.2),                                                   # Dropout layer set to 20% to reduce overfitting\n",
    "    keras.layers.Dense(10, activation='softmax')                                 # Output layer with 10 neurons, softmax gives class probabilities\n",
    "])\n"
   ]
  },
  {
   "cell_type": "code",
   "execution_count": 13,
   "metadata": {
    "colab": {
     "base_uri": "https://localhost:8080/"
    },
    "executionInfo": {
     "elapsed": 17,
     "status": "ok",
     "timestamp": 1757803455983,
     "user": {
      "displayName": "Mahir Kardame",
      "userId": "03364185381333698645"
     },
     "user_tz": -60
    },
    "id": "lFmrlH7dKag2",
    "outputId": "a6313d61-45a4-430e-d499-67e4481c3183"
   },
   "outputs": [
    {
     "data": {
      "text/plain": [
       "100480"
      ]
     },
     "execution_count": 13,
     "metadata": {},
     "output_type": "execute_result"
    }
   ],
   "source": [
    "784*128+128                                                                      # Number of trainable parameters in the first Dense layer (weights + biases) = 100,480"
   ]
  },
  {
   "cell_type": "code",
   "execution_count": 14,
   "metadata": {
    "colab": {
     "base_uri": "https://localhost:8080/",
     "height": 261
    },
    "executionInfo": {
     "elapsed": 35,
     "status": "ok",
     "timestamp": 1757803456019,
     "user": {
      "displayName": "Mahir Kardame",
      "userId": "03364185381333698645"
     },
     "user_tz": -60
    },
    "id": "zJLOMKV_Kk3o",
    "outputId": "87dd69a1-b924-4571-b714-baab738f08e3"
   },
   "outputs": [
    {
     "data": {
      "text/html": [
       "<pre style=\"white-space:pre;overflow-x:auto;line-height:normal;font-family:Menlo,'DejaVu Sans Mono',consolas,'Courier New',monospace\"><span style=\"font-weight: bold\">Model: \"sequential\"</span>\n",
       "</pre>\n"
      ],
      "text/plain": [
       "\u001b[1mModel: \"sequential\"\u001b[0m\n"
      ]
     },
     "metadata": {},
     "output_type": "display_data"
    },
    {
     "data": {
      "text/html": [
       "<pre style=\"white-space:pre;overflow-x:auto;line-height:normal;font-family:Menlo,'DejaVu Sans Mono',consolas,'Courier New',monospace\">┏━━━━━━━━━━━━━━━━━━━━━━━━━━━━━━━━━┳━━━━━━━━━━━━━━━━━━━━━━━━┳━━━━━━━━━━━━━━━┓\n",
       "┃<span style=\"font-weight: bold\"> Layer (type)                    </span>┃<span style=\"font-weight: bold\"> Output Shape           </span>┃<span style=\"font-weight: bold\">       Param # </span>┃\n",
       "┡━━━━━━━━━━━━━━━━━━━━━━━━━━━━━━━━━╇━━━━━━━━━━━━━━━━━━━━━━━━╇━━━━━━━━━━━━━━━┩\n",
       "│ flatten (<span style=\"color: #0087ff; text-decoration-color: #0087ff\">Flatten</span>)               │ (<span style=\"color: #00d7ff; text-decoration-color: #00d7ff\">None</span>, <span style=\"color: #00af00; text-decoration-color: #00af00\">784</span>)            │             <span style=\"color: #00af00; text-decoration-color: #00af00\">0</span> │\n",
       "├─────────────────────────────────┼────────────────────────┼───────────────┤\n",
       "│ dense (<span style=\"color: #0087ff; text-decoration-color: #0087ff\">Dense</span>)                   │ (<span style=\"color: #00d7ff; text-decoration-color: #00d7ff\">None</span>, <span style=\"color: #00af00; text-decoration-color: #00af00\">128</span>)            │       <span style=\"color: #00af00; text-decoration-color: #00af00\">100,480</span> │\n",
       "├─────────────────────────────────┼────────────────────────┼───────────────┤\n",
       "│ dropout (<span style=\"color: #0087ff; text-decoration-color: #0087ff\">Dropout</span>)               │ (<span style=\"color: #00d7ff; text-decoration-color: #00d7ff\">None</span>, <span style=\"color: #00af00; text-decoration-color: #00af00\">128</span>)            │             <span style=\"color: #00af00; text-decoration-color: #00af00\">0</span> │\n",
       "├─────────────────────────────────┼────────────────────────┼───────────────┤\n",
       "│ dense_1 (<span style=\"color: #0087ff; text-decoration-color: #0087ff\">Dense</span>)                 │ (<span style=\"color: #00d7ff; text-decoration-color: #00d7ff\">None</span>, <span style=\"color: #00af00; text-decoration-color: #00af00\">10</span>)             │         <span style=\"color: #00af00; text-decoration-color: #00af00\">1,290</span> │\n",
       "└─────────────────────────────────┴────────────────────────┴───────────────┘\n",
       "</pre>\n"
      ],
      "text/plain": [
       "┏━━━━━━━━━━━━━━━━━━━━━━━━━━━━━━━━━┳━━━━━━━━━━━━━━━━━━━━━━━━┳━━━━━━━━━━━━━━━┓\n",
       "┃\u001b[1m \u001b[0m\u001b[1mLayer (type)                   \u001b[0m\u001b[1m \u001b[0m┃\u001b[1m \u001b[0m\u001b[1mOutput Shape          \u001b[0m\u001b[1m \u001b[0m┃\u001b[1m \u001b[0m\u001b[1m      Param #\u001b[0m\u001b[1m \u001b[0m┃\n",
       "┡━━━━━━━━━━━━━━━━━━━━━━━━━━━━━━━━━╇━━━━━━━━━━━━━━━━━━━━━━━━╇━━━━━━━━━━━━━━━┩\n",
       "│ flatten (\u001b[38;5;33mFlatten\u001b[0m)               │ (\u001b[38;5;45mNone\u001b[0m, \u001b[38;5;34m784\u001b[0m)            │             \u001b[38;5;34m0\u001b[0m │\n",
       "├─────────────────────────────────┼────────────────────────┼───────────────┤\n",
       "│ dense (\u001b[38;5;33mDense\u001b[0m)                   │ (\u001b[38;5;45mNone\u001b[0m, \u001b[38;5;34m128\u001b[0m)            │       \u001b[38;5;34m100,480\u001b[0m │\n",
       "├─────────────────────────────────┼────────────────────────┼───────────────┤\n",
       "│ dropout (\u001b[38;5;33mDropout\u001b[0m)               │ (\u001b[38;5;45mNone\u001b[0m, \u001b[38;5;34m128\u001b[0m)            │             \u001b[38;5;34m0\u001b[0m │\n",
       "├─────────────────────────────────┼────────────────────────┼───────────────┤\n",
       "│ dense_1 (\u001b[38;5;33mDense\u001b[0m)                 │ (\u001b[38;5;45mNone\u001b[0m, \u001b[38;5;34m10\u001b[0m)             │         \u001b[38;5;34m1,290\u001b[0m │\n",
       "└─────────────────────────────────┴────────────────────────┴───────────────┘\n"
      ]
     },
     "metadata": {},
     "output_type": "display_data"
    },
    {
     "data": {
      "text/html": [
       "<pre style=\"white-space:pre;overflow-x:auto;line-height:normal;font-family:Menlo,'DejaVu Sans Mono',consolas,'Courier New',monospace\"><span style=\"font-weight: bold\"> Total params: </span><span style=\"color: #00af00; text-decoration-color: #00af00\">101,770</span> (397.54 KB)\n",
       "</pre>\n"
      ],
      "text/plain": [
       "\u001b[1m Total params: \u001b[0m\u001b[38;5;34m101,770\u001b[0m (397.54 KB)\n"
      ]
     },
     "metadata": {},
     "output_type": "display_data"
    },
    {
     "data": {
      "text/html": [
       "<pre style=\"white-space:pre;overflow-x:auto;line-height:normal;font-family:Menlo,'DejaVu Sans Mono',consolas,'Courier New',monospace\"><span style=\"font-weight: bold\"> Trainable params: </span><span style=\"color: #00af00; text-decoration-color: #00af00\">101,770</span> (397.54 KB)\n",
       "</pre>\n"
      ],
      "text/plain": [
       "\u001b[1m Trainable params: \u001b[0m\u001b[38;5;34m101,770\u001b[0m (397.54 KB)\n"
      ]
     },
     "metadata": {},
     "output_type": "display_data"
    },
    {
     "data": {
      "text/html": [
       "<pre style=\"white-space:pre;overflow-x:auto;line-height:normal;font-family:Menlo,'DejaVu Sans Mono',consolas,'Courier New',monospace\"><span style=\"font-weight: bold\"> Non-trainable params: </span><span style=\"color: #00af00; text-decoration-color: #00af00\">0</span> (0.00 B)\n",
       "</pre>\n"
      ],
      "text/plain": [
       "\u001b[1m Non-trainable params: \u001b[0m\u001b[38;5;34m0\u001b[0m (0.00 B)\n"
      ]
     },
     "metadata": {},
     "output_type": "display_data"
    }
   ],
   "source": [
    "model.summary()                                                                  #Displays model architecture"
   ]
  },
  {
   "cell_type": "code",
   "execution_count": null,
   "metadata": {
    "id": "N5wyhK1yK0sA"
   },
   "outputs": [],
   "source": [
    "#model.compile(optimizer='adam',                                                  # Use Adam optimizer for efficient training\n",
    "              #loss='sparse_categorical_crossentropy',                            # Loss function for multi-class classification with integer labels\n",
    "              #metrics=['accuracy'])                                              # Track accuracy as the evaluation metric\n"
   ]
  },
  {
   "cell_type": "markdown",
   "metadata": {
    "id": "Jl6a9vMjK831"
   },
   "source": [
    "5 - Training & Testing the Model"
   ]
  },
  {
   "cell_type": "code",
   "execution_count": 32,
   "metadata": {
    "colab": {
     "base_uri": "https://localhost:8080/"
    },
    "executionInfo": {
     "elapsed": 53418,
     "status": "ok",
     "timestamp": 1757803562421,
     "user": {
      "displayName": "Mahir Kardame",
      "userId": "03364185381333698645"
     },
     "user_tz": -60
    },
    "id": "AiUYHhCkLAjQ",
    "outputId": "d5ca4839-8ad3-4b2f-91dd-d69fd29f5e80"
   },
   "outputs": [
    {
     "name": "stdout",
     "output_type": "stream",
     "text": [
      "  Optimizer  Learning Rate  Epochs  Accuracy (%)  Time Taken (s)\n",
      "0      Adam          0.001       3         98.90           21.62\n",
      "1      Adam          0.010       3         98.67           21.95\n",
      "2      Adam          0.100       3          9.74           23.82\n",
      "3       SGD          0.001       3         94.23           23.08\n",
      "4       SGD          0.010       3         98.10           23.73\n",
      "5       SGD          0.100       3         98.94           24.65\n"
     ]
    },
    {
     "data": {
      "image/png": "[encoded data removed]",
      "text/plain": [
       "<Figure size 800x300 with 1 Axes>"
      ]
     },
     "metadata": {},
     "output_type": "display_data"
    }
   ],
   "source": [
    "import tensorflow as tf\n",
    "import matplotlib.pyplot as plt\n",
    "import time\n",
    "from tensorflow.keras.callbacks import Callback\n",
    "from tensorflow.keras.optimizers import Adam, SGD\n",
    "import pandas as pd\n",
    "\n",
    "# --- Callback for timing ---\n",
    "class TimingCallback(Callback):\n",
    "    def on_train_begin(self, logs=None):\n",
    "        self.times = []\n",
    "    def on_epoch_begin(self, epoch, logs=None):\n",
    "        self.epoch_start = time.time()\n",
    "    def on_epoch_end(self, epoch, logs=None):\n",
    "        self.times.append(time.time() - self.epoch_start)\n",
    "\n",
    "# --- Build CNN model ---\n",
    "def build_model():\n",
    "    from tensorflow.keras.models import Sequential\n",
    "    from tensorflow.keras.layers import Conv2D, MaxPooling2D, Flatten, Dense, Dropout\n",
    "    model = Sequential([\n",
    "        Conv2D(32, (3,3), activation='relu', input_shape=(28,28,1)),\n",
    "        MaxPooling2D((2,2)),\n",
    "        Conv2D(64, (3,3), activation='relu'),\n",
    "        MaxPooling2D((2,2)),\n",
    "        Flatten(),\n",
    "        Dense(128, activation='relu'),\n",
    "        Dropout(0.5),\n",
    "        Dense(10, activation='softmax')\n",
    "    ])\n",
    "    return model\n",
    "\n",
    "# --- Prepare data (MNIST) ---\n",
    "(x_train, y_train), (x_test, y_test) = tf.keras.datasets.mnist.load_data()\n",
    "x_train_processed = x_train.reshape(-1, 28, 28, 1).astype(\"float32\") / 255.0\n",
    "x_test_processed = x_test.reshape(-1, 28, 28, 1).astype(\"float32\") / 255.0\n",
    "\n",
    "# --- Experiment settings ---\n",
    "optimizers = {\n",
    "    \"Adam\": Adam,\n",
    "    \"SGD\": SGD\n",
    "}\n",
    "learning_rates = [0.001, 0.01, 0.1]\n",
    "epochs = 3\n",
    "batch_size = 128\n",
    "\n",
    "results = []\n",
    "\n",
    "# --- Loop over optimizers & learning rates ---\n",
    "for opt_name, opt_class in optimizers.items():\n",
    "    for lr in learning_rates:\n",
    "        model = build_model()\n",
    "        if opt_name == \"Adam\":\n",
    "            optimizer = opt_class(learning_rate=lr)\n",
    "        else:\n",
    "            optimizer = opt_class(learning_rate=lr, momentum=0.9)\n",
    "\n",
    "        model.compile(optimizer=optimizer,\n",
    "                      loss=\"sparse_categorical_crossentropy\",\n",
    "                      metrics=[\"accuracy\"])\n",
    "\n",
    "        timing = TimingCallback()\n",
    "        history = model.fit(x_train_processed, y_train,\n",
    "                            epochs=epochs, batch_size=batch_size,\n",
    "                            validation_data=(x_test_processed, y_test),\n",
    "                            verbose=0, callbacks=[timing])\n",
    "\n",
    "        total_time = sum(timing.times)\n",
    "        final_val_acc = history.history[\"val_accuracy\"][-1] * 100\n",
    "\n",
    "        results.append({\n",
    "            \"Optimizer\": opt_name,\n",
    "            \"Learning Rate\": lr,\n",
    "            \"Epochs\": epochs,\n",
    "            \"Accuracy (%)\": round(final_val_acc, 2),\n",
    "            \"Time Taken (s)\": round(total_time, 2)\n",
    "        })\n",
    "\n",
    "# --- Convert results to DataFrame ---\n",
    "df_results = pd.DataFrame(results)\n",
    "print(df_results)\n",
    "\n",
    "# --- Display table nicely (optional if running in Jupyter) ---\n",
    "import matplotlib.pyplot as plt\n",
    "import pandas as pd\n",
    "\n",
    "fig, ax = plt.subplots(figsize=(8,3))\n",
    "ax.axis('off')\n",
    "table = ax.table(cellText=df_results.values,\n",
    "                 colLabels=df_results.columns,\n",
    "                 cellLoc='center', loc='center')\n",
    "table.auto_set_font_size(False)\n",
    "table.set_fontsize(10)\n",
    "table.scale(1.2, 1.2)\n",
    "plt.title(\"Optimizer Comparison on MNIST\", fontsize=14)\n",
    "plt.show()\n"
   ]
  },
  {
   "cell_type": "code",
   "execution_count": 17,
   "metadata": {
    "colab": {
     "base_uri": "https://localhost:8080/"
    },
    "executionInfo": {
     "elapsed": 1545,
     "status": "ok",
     "timestamp": 1757803563982,
     "user": {
      "displayName": "Mahir Kardame",
      "userId": "03364185381333698645"
     },
     "user_tz": -60
    },
    "id": "7FkN2gaULssu",
    "outputId": "8a02d8ed-485c-4e75-a040-06dba185f90d"
   },
   "outputs": [
    {
     "name": "stdout",
     "output_type": "stream",
     "text": [
      "\u001b[1m313/313\u001b[0m \u001b[32m━━━━━━━━━━━━━━━━━━━━\u001b[0m\u001b[37m\u001b[0m \u001b[1m0s\u001b[0m 1ms/step - accuracy: 0.9783 - loss: 0.0728\n"
     ]
    }
   ],
   "source": [
    "test_loss, test_acc = model.evaluate(x_test_processed, y_test)"
   ]
  },
  {
   "cell_type": "code",
   "execution_count": 18,
   "metadata": {
    "colab": {
     "base_uri": "https://localhost:8080/"
    },
    "executionInfo": {
     "elapsed": 10,
     "status": "ok",
     "timestamp": 1757803563995,
     "user": {
      "displayName": "Mahir Kardame",
      "userId": "03364185381333698645"
     },
     "user_tz": -60
    },
    "id": "hI68Xtu0LvcJ",
    "outputId": "4c070f93-2a5e-4c9a-e886-3630aa44fbaf"
   },
   "outputs": [
    {
     "name": "stdout",
     "output_type": "stream",
     "text": [
      "Test Loss:  0.07284500449895859\n",
      "Test Accuracy:  0.9782999753952026\n"
     ]
    }
   ],
   "source": [
    "print(\"Test Loss: \", test_loss)\n",
    "print(\"Test Accuracy: \", test_acc)"
   ]
  },
  {
   "cell_type": "code",
   "execution_count": 19,
   "metadata": {
    "executionInfo": {
     "elapsed": 16,
     "status": "ok",
     "timestamp": 1757803564019,
     "user": {
      "displayName": "Mahir Kardame",
      "userId": "03364185381333698645"
     },
     "user_tz": -60
    },
    "id": "VQUCDwilLyVp"
   },
   "outputs": [],
   "source": [
    "\n",
    "training_loss = history.history['loss']\n",
    "training_accuracy = history.history['accuracy']"
   ]
  },
  {
   "cell_type": "code",
   "execution_count": 20,
   "metadata": {
    "colab": {
     "base_uri": "https://localhost:8080/",
     "height": 311
    },
    "executionInfo": {
     "elapsed": 378,
     "status": "ok",
     "timestamp": 1757803564402,
     "user": {
      "displayName": "Mahir Kardame",
      "userId": "03364185381333698645"
     },
     "user_tz": -60
    },
    "id": "khOagXEDL0bm",
    "outputId": "c15baa97-1161-48ef-dca9-4b57665399f1"
   },
   "outputs": [
    {
     "data": {
      "image/png": "[encoded data removed]",
      "text/plain": [
       "<Figure size 800x300 with 2 Axes>"
      ]
     },
     "metadata": {},
     "output_type": "display_data"
    }
   ],
   "source": [
    "# Create subplots for loss and accuracy\n",
    "plt.figure(figsize=(8, 3))\n",
    "# Loss subplot\n",
    "plt.subplot(1, 2, 1)\n",
    "plt.plot(training_loss, label='Training Loss')\n",
    "plt.xlabel('Epochs')\n",
    "plt.ylabel('Loss')\n",
    "plt.legend()\n",
    "\n",
    "# Accuracy subplot\n",
    "plt.subplot(1, 2, 2)\n",
    "plt.plot(training_accuracy, label='Training Accuracy')\n",
    "plt.xlabel('Epochs')\n",
    "plt.ylabel('Accuracy')\n",
    "plt.legend()\n",
    "\n",
    "plt.show()"
   ]
  },
  {
   "cell_type": "code",
   "execution_count": 21,
   "metadata": {
    "colab": {
     "base_uri": "https://localhost:8080/"
    },
    "executionInfo": {
     "elapsed": 1176,
     "status": "ok",
     "timestamp": 1757803565583,
     "user": {
      "displayName": "Mahir Kardame",
      "userId": "03364185381333698645"
     },
     "user_tz": -60
    },
    "id": "52l6Mx1lL7Xo",
    "outputId": "3d0efe4e-2abd-4cb2-f1ae-19c05a86cb35"
   },
   "outputs": [
    {
     "name": "stdout",
     "output_type": "stream",
     "text": [
      "\u001b[1m313/313\u001b[0m \u001b[32m━━━━━━━━━━━━━━━━━━━━\u001b[0m\u001b[37m\u001b[0m \u001b[1m0s\u001b[0m 713us/step\n"
     ]
    },
    {
     "data": {
      "text/plain": [
       "np.int64(1)"
      ]
     },
     "execution_count": 21,
     "metadata": {},
     "output_type": "execute_result"
    }
   ],
   "source": [
    "\n",
    "model.predict(x_test_processed)[2].argmax()"
   ]
  },
  {
   "cell_type": "code",
   "execution_count": 22,
   "metadata": {
    "colab": {
     "base_uri": "https://localhost:8080/",
     "height": 447
    },
    "executionInfo": {
     "elapsed": 157,
     "status": "ok",
     "timestamp": 1757803565754,
     "user": {
      "displayName": "Mahir Kardame",
      "userId": "03364185381333698645"
     },
     "user_tz": -60
    },
    "id": "JiD8D_0ML-Hv",
    "outputId": "299490f9-cd2b-4072-a392-8f730100a998"
   },
   "outputs": [
    {
     "data": {
      "text/plain": [
       "<matplotlib.image.AxesImage at 0x27036158450>"
      ]
     },
     "execution_count": 22,
     "metadata": {},
     "output_type": "execute_result"
    },
    {
     "data": {
      "image/png": "[encoded data removed]",
      "text/plain": [
       "<Figure size 640x480 with 1 Axes>"
      ]
     },
     "metadata": {},
     "output_type": "display_data"
    }
   ],
   "source": [
    "plt.imshow(x_test[0])"
   ]
  },
  {
   "cell_type": "code",
   "execution_count": 23,
   "metadata": {
    "colab": {
     "base_uri": "https://localhost:8080/"
    },
    "executionInfo": {
     "elapsed": 6,
     "status": "ok",
     "timestamp": 1757803565767,
     "user": {
      "displayName": "Mahir Kardame",
      "userId": "03364185381333698645"
     },
     "user_tz": -60
    },
    "id": "LssPHdNYMAdS",
    "outputId": "30c7fec5-0fac-4e78-a212-b51a37cba44d"
   },
   "outputs": [
    {
     "data": {
      "text/plain": [
       "np.uint8(7)"
      ]
     },
     "execution_count": 23,
     "metadata": {},
     "output_type": "execute_result"
    }
   ],
   "source": [
    "y_test[0]"
   ]
  },
  {
   "cell_type": "code",
   "execution_count": 35,
   "metadata": {
    "colab": {
     "base_uri": "https://localhost:8080/",
     "height": 165
    },
    "executionInfo": {
     "elapsed": 1022,
     "status": "ok",
     "timestamp": 1757803566803,
     "user": {
      "displayName": "Mahir Kardame",
      "userId": "03364185381333698645"
     },
     "user_tz": -60
    },
    "id": "sEWI1hmvMIpj",
    "outputId": "b167a603-a715-41c8-fe47-aeb14b39ecf8"
   },
   "outputs": [
    {
     "name": "stdout",
     "output_type": "stream",
     "text": [
      "\u001b[1m313/313\u001b[0m \u001b[32m━━━━━━━━━━━━━━━━━━━━\u001b[0m\u001b[37m\u001b[0m \u001b[1m1s\u001b[0m 2ms/step\n"
     ]
    },
    {
     "data": {
      "image/png": "[encoded data removed]",
      "text/plain": [
       "<Figure size 800x500 with 1 Axes>"
      ]
     },
     "metadata": {},
     "output_type": "display_data"
    },
    {
     "data": {
      "image/png": "[encoded data removed]",
      "text/plain": [
       "<Figure size 800x600 with 2 Axes>"
      ]
     },
     "metadata": {},
     "output_type": "display_data"
    }
   ],
   "source": [
    "import numpy as np\n",
    "import matplotlib.pyplot as plt\n",
    "from sklearn.metrics import confusion_matrix\n",
    "\n",
    "# Predictions from your model\n",
    "predictions = model.predict(x_test_processed)\n",
    "y_pred_classes = np.argmax(predictions, axis=1)\n",
    "\n",
    "# Handle y_test shape automatically\n",
    "if len(y_test.shape) > 1 and y_test.shape[1] > 1:  \n",
    "    y_true = np.argmax(y_test, axis=1)\n",
    "else:  \n",
    "    y_true = y_test\n",
    "\n",
    "# Compute confusion matrix\n",
    "cm = confusion_matrix(y_true, y_pred_classes)\n",
    "\n",
    "# Per-class accuracy\n",
    "class_accuracy = cm.diagonal() / cm.sum(axis=1)\n",
    "\n",
    "# --- Bar chart with accuracy labels ---\n",
    "plt.figure(figsize=(8,5))\n",
    "bars = plt.bar(range(10), class_accuracy, color=\"blue\", alpha=0.8)\n",
    "plt.xticks(range(10))\n",
    "plt.ylim(0, 1.05)\n",
    "plt.title(\"Accuracy for Each Digit\")\n",
    "plt.xlabel(\"Digit\")\n",
    "plt.ylabel(\"Accuracy\")\n",
    "plt.grid(axis=\"y\", linestyle=\"--\", alpha=0.7)\n",
    "\n",
    "# Add text labels on top of bars\n",
    "for i, bar in enumerate(bars):\n",
    "    acc_percent = class_accuracy[i] * 100\n",
    "    plt.text(bar.get_x() + bar.get_width()/2, bar.get_height() + 0.01,\n",
    "             f\"{acc_percent:.2f}%\", ha='center', va='bottom', fontsize=9, color=\"black\")\n",
    "\n",
    "plt.show()\n",
    "\n",
    "# --- Confusion matrix (matshow) ---\n",
    "plt.figure(figsize=(8,6))\n",
    "plt.matshow(cm, cmap=\"Blues\", alpha=0.8, fignum=1)\n",
    "plt.title(\"Confusion Matrix - MNIST\")\n",
    "plt.xlabel(\"Predicted Label\")\n",
    "plt.ylabel(\"True Label\")\n",
    "\n",
    "# Annotate cells\n",
    "for i in range(cm.shape[0]):\n",
    "    for j in range(cm.shape[1]):\n",
    "        plt.text(j, i, str(cm[i, j]), ha='center', va='center', color=\"black\")\n",
    "\n",
    "plt.colorbar()\n",
    "plt.show()\n"
   ]
  },
  {
   "cell_type": "code",
   "execution_count": 36,
   "metadata": {},
   "outputs": [
    {
     "name": "stderr",
     "output_type": "stream",
     "text": [
      "c:\\Users\\Mahir Kardame\\AppData\\Local\\Programs\\Python\\Python311\\Lib\\site-packages\\keras\\src\\layers\\convolutional\\base_conv.py:113: UserWarning: Do not pass an `input_shape`/`input_dim` argument to a layer. When using Sequential models, prefer using an `Input(shape)` object as the first layer in the model instead.\n",
      "  super().__init__(activity_regularizer=activity_regularizer, **kwargs)\n"
     ]
    },
    {
     "name": "stdout",
     "output_type": "stream",
     "text": [
      "Epoch 1/10\n",
      "\u001b[1m469/469\u001b[0m \u001b[32m━━━━━━━━━━━━━━━━━━━━\u001b[0m\u001b[37m\u001b[0m \u001b[1m9s\u001b[0m 17ms/step - accuracy: 0.8428 - loss: 0.4966 - val_accuracy: 0.9698 - val_loss: 0.1001\n",
      "Epoch 2/10\n",
      "\u001b[1m469/469\u001b[0m \u001b[32m━━━━━━━━━━━━━━━━━━━━\u001b[0m\u001b[37m\u001b[0m \u001b[1m7s\u001b[0m 16ms/step - accuracy: 0.9531 - loss: 0.1578 - val_accuracy: 0.9771 - val_loss: 0.0731\n",
      "Epoch 3/10\n",
      "\u001b[1m469/469\u001b[0m \u001b[32m━━━━━━━━━━━━━━━━━━━━\u001b[0m\u001b[37m\u001b[0m \u001b[1m8s\u001b[0m 17ms/step - accuracy: 0.9661 - loss: 0.1147 - val_accuracy: 0.9826 - val_loss: 0.0542\n",
      "Epoch 4/10\n",
      "\u001b[1m469/469\u001b[0m \u001b[32m━━━━━━━━━━━━━━━━━━━━\u001b[0m\u001b[37m\u001b[0m \u001b[1m7s\u001b[0m 16ms/step - accuracy: 0.9714 - loss: 0.0950 - val_accuracy: 0.9841 - val_loss: 0.0492\n",
      "Epoch 5/10\n",
      "\u001b[1m469/469\u001b[0m \u001b[32m━━━━━━━━━━━━━━━━━━━━\u001b[0m\u001b[37m\u001b[0m \u001b[1m8s\u001b[0m 17ms/step - accuracy: 0.9748 - loss: 0.0846 - val_accuracy: 0.9853 - val_loss: 0.0455\n",
      "Epoch 6/10\n",
      "\u001b[1m469/469\u001b[0m \u001b[32m━━━━━━━━━━━━━━━━━━━━\u001b[0m\u001b[37m\u001b[0m \u001b[1m8s\u001b[0m 16ms/step - accuracy: 0.9782 - loss: 0.0735 - val_accuracy: 0.9870 - val_loss: 0.0384\n",
      "Epoch 7/10\n",
      "\u001b[1m469/469\u001b[0m \u001b[32m━━━━━━━━━━━━━━━━━━━━\u001b[0m\u001b[37m\u001b[0m \u001b[1m8s\u001b[0m 16ms/step - accuracy: 0.9798 - loss: 0.0660 - val_accuracy: 0.9882 - val_loss: 0.0349\n",
      "Epoch 8/10\n",
      "\u001b[1m469/469\u001b[0m \u001b[32m━━━━━━━━━━━━━━━━━━━━\u001b[0m\u001b[37m\u001b[0m \u001b[1m8s\u001b[0m 16ms/step - accuracy: 0.9813 - loss: 0.0602 - val_accuracy: 0.9867 - val_loss: 0.0405\n",
      "Epoch 9/10\n",
      "\u001b[1m469/469\u001b[0m \u001b[32m━━━━━━━━━━━━━━━━━━━━\u001b[0m\u001b[37m\u001b[0m \u001b[1m8s\u001b[0m 17ms/step - accuracy: 0.9828 - loss: 0.0563 - val_accuracy: 0.9910 - val_loss: 0.0303\n",
      "Epoch 10/10\n",
      "\u001b[1m469/469\u001b[0m \u001b[32m━━━━━━━━━━━━━━━━━━━━\u001b[0m\u001b[37m\u001b[0m \u001b[1m8s\u001b[0m 17ms/step - accuracy: 0.9845 - loss: 0.0508 - val_accuracy: 0.9905 - val_loss: 0.0318\n",
      "Epoch 1/10\n"
     ]
    },
    {
     "name": "stderr",
     "output_type": "stream",
     "text": [
      "c:\\Users\\Mahir Kardame\\AppData\\Local\\Programs\\Python\\Python311\\Lib\\site-packages\\keras\\src\\layers\\convolutional\\base_conv.py:113: UserWarning: Do not pass an `input_shape`/`input_dim` argument to a layer. When using Sequential models, prefer using an `Input(shape)` object as the first layer in the model instead.\n",
      "  super().__init__(activity_regularizer=activity_regularizer, **kwargs)\n"
     ]
    },
    {
     "name": "stdout",
     "output_type": "stream",
     "text": [
      "\u001b[1m469/469\u001b[0m \u001b[32m━━━━━━━━━━━━━━━━━━━━\u001b[0m\u001b[37m\u001b[0m \u001b[1m9s\u001b[0m 17ms/step - accuracy: 0.9072 - loss: 0.3054 - val_accuracy: 0.9797 - val_loss: 0.0625\n",
      "Epoch 2/10\n",
      "\u001b[1m469/469\u001b[0m \u001b[32m━━━━━━━━━━━━━━━━━━━━\u001b[0m\u001b[37m\u001b[0m \u001b[1m8s\u001b[0m 17ms/step - accuracy: 0.9708 - loss: 0.1009 - val_accuracy: 0.9848 - val_loss: 0.0474\n",
      "Epoch 3/10\n",
      "\u001b[1m469/469\u001b[0m \u001b[32m━━━━━━━━━━━━━━━━━━━━\u001b[0m\u001b[37m\u001b[0m \u001b[1m8s\u001b[0m 17ms/step - accuracy: 0.9780 - loss: 0.0738 - val_accuracy: 0.9885 - val_loss: 0.0354\n",
      "Epoch 4/10\n",
      "\u001b[1m469/469\u001b[0m \u001b[32m━━━━━━━━━━━━━━━━━━━━\u001b[0m\u001b[37m\u001b[0m \u001b[1m8s\u001b[0m 18ms/step - accuracy: 0.9824 - loss: 0.0582 - val_accuracy: 0.9878 - val_loss: 0.0361\n",
      "Epoch 5/10\n",
      "\u001b[1m469/469\u001b[0m \u001b[32m━━━━━━━━━━━━━━━━━━━━\u001b[0m\u001b[37m\u001b[0m \u001b[1m8s\u001b[0m 18ms/step - accuracy: 0.9848 - loss: 0.0511 - val_accuracy: 0.9896 - val_loss: 0.0314\n",
      "Epoch 6/10\n",
      "\u001b[1m469/469\u001b[0m \u001b[32m━━━━━━━━━━━━━━━━━━━━\u001b[0m\u001b[37m\u001b[0m \u001b[1m9s\u001b[0m 18ms/step - accuracy: 0.9863 - loss: 0.0452 - val_accuracy: 0.9914 - val_loss: 0.0255\n",
      "Epoch 7/10\n",
      "\u001b[1m469/469\u001b[0m \u001b[32m━━━━━━━━━━━━━━━━━━━━\u001b[0m\u001b[37m\u001b[0m \u001b[1m8s\u001b[0m 18ms/step - accuracy: 0.9876 - loss: 0.0393 - val_accuracy: 0.9920 - val_loss: 0.0241\n",
      "Epoch 8/10\n",
      "\u001b[1m469/469\u001b[0m \u001b[32m━━━━━━━━━━━━━━━━━━━━\u001b[0m\u001b[37m\u001b[0m \u001b[1m8s\u001b[0m 18ms/step - accuracy: 0.9895 - loss: 0.0349 - val_accuracy: 0.9914 - val_loss: 0.0235\n",
      "Epoch 9/10\n",
      "\u001b[1m469/469\u001b[0m \u001b[32m━━━━━━━━━━━━━━━━━━━━\u001b[0m\u001b[37m\u001b[0m \u001b[1m9s\u001b[0m 18ms/step - accuracy: 0.9897 - loss: 0.0327 - val_accuracy: 0.9922 - val_loss: 0.0233\n",
      "Epoch 10/10\n",
      "\u001b[1m469/469\u001b[0m \u001b[32m━━━━━━━━━━━━━━━━━━━━\u001b[0m\u001b[37m\u001b[0m \u001b[1m9s\u001b[0m 19ms/step - accuracy: 0.9904 - loss: 0.0302 - val_accuracy: 0.9930 - val_loss: 0.0216\n"
     ]
    },
    {
     "data": {
      "image/png": "[encoded data removed]",
      "text/plain": [
       "<Figure size 1200x500 with 2 Axes>"
      ]
     },
     "metadata": {},
     "output_type": "display_data"
    },
    {
     "name": "stdout",
     "output_type": "stream",
     "text": [
      "\n",
      "Final Optimized CNN Model Results:\n",
      "       Model  Accuracy (%)  Precision (%)  Time Taken (s)\n",
      "0  Pre-Tuned         99.05          99.05           78.31\n",
      "1  Optimized         99.30          99.30           85.10\n"
     ]
    }
   ],
   "source": [
    "import tensorflow as tf\n",
    "import matplotlib.pyplot as plt\n",
    "import time\n",
    "import numpy as np\n",
    "from sklearn.metrics import precision_score\n",
    "\n",
    "# --- Load data (MNIST) ---\n",
    "(x_train, y_train), (x_test, y_test) = tf.keras.datasets.mnist.load_data()\n",
    "x_train = x_train.reshape(-1, 28, 28, 1).astype(\"float32\") / 255.0\n",
    "x_test = x_test.reshape(-1, 28, 28, 1).astype(\"float32\") / 255.0\n",
    "\n",
    "# --- Build CNN ---\n",
    "def build_model():\n",
    "    from tensorflow.keras.models import Sequential\n",
    "    from tensorflow.keras.layers import Conv2D, MaxPooling2D, Flatten, Dense, Dropout\n",
    "    model = Sequential([\n",
    "        Conv2D(32, (3,3), activation='relu', input_shape=(28,28,1)),\n",
    "        MaxPooling2D((2,2)),\n",
    "        Conv2D(64, (3,3), activation='relu'),\n",
    "        MaxPooling2D((2,2)),\n",
    "        Flatten(),\n",
    "        Dense(128, activation='relu'),\n",
    "        Dropout(0.5),\n",
    "        Dense(10, activation='softmax')\n",
    "    ])\n",
    "    return model\n",
    "\n",
    "# --- Train and evaluate helper ---\n",
    "def train_and_evaluate(optimizer, epochs, batch_size, label):\n",
    "    model = build_model()\n",
    "    model.compile(optimizer=optimizer,\n",
    "                  loss=\"sparse_categorical_crossentropy\",\n",
    "                  metrics=[\"accuracy\"])\n",
    "    \n",
    "    start_time = time.time()\n",
    "    history = model.fit(x_train, y_train,\n",
    "                        epochs=epochs,\n",
    "                        batch_size=batch_size,\n",
    "                        validation_data=(x_test, y_test),\n",
    "                        verbose=1)\n",
    "    total_time = time.time() - start_time\n",
    "\n",
    "    # Predictions\n",
    "    preds = model.predict(x_test, verbose=0)\n",
    "    y_pred_classes = np.argmax(preds, axis=1)\n",
    "\n",
    "    # Accuracy & Precision\n",
    "    test_acc = model.evaluate(x_test, y_test, verbose=0)[1] * 100\n",
    "    precision = precision_score(y_test, y_pred_classes, average=\"macro\") * 100\n",
    "\n",
    "    return history, test_acc, precision, total_time\n",
    "\n",
    "# --- Pre-tuned model (weaker setup) ---\n",
    "history_pre, acc_pre, prec_pre, time_pre = train_and_evaluate(\n",
    "    optimizer=tf.keras.optimizers.SGD(learning_rate=0.1), \n",
    "    epochs=10, \n",
    "    batch_size=128, \n",
    "    label=\"Pre-Tuned\"\n",
    ")\n",
    "\n",
    "# --- Optimized model (better tuned) ---\n",
    "history_opt, acc_opt, prec_opt, time_opt = train_and_evaluate(\n",
    "    optimizer=tf.keras.optimizers.Adam(learning_rate=0.001), \n",
    "    epochs=10, \n",
    "    batch_size=128, \n",
    "    label=\"Optimized\"\n",
    ")\n",
    "\n",
    "# --- Plot accuracy curves ---\n",
    "plt.figure(figsize=(12,5))\n",
    "\n",
    "# Pre-Tuned\n",
    "plt.subplot(1,2,1)\n",
    "plt.plot(history_pre.history['accuracy'], label='Train')\n",
    "plt.plot(history_pre.history['val_accuracy'], label='Validation')\n",
    "plt.title(\"Pre-Tuned CNN Model\")\n",
    "plt.xlabel(\"Epoch\")\n",
    "plt.ylabel(\"Accuracy\")\n",
    "plt.legend()\n",
    "plt.grid(True)\n",
    "\n",
    "# Optimized\n",
    "plt.subplot(1,2,2)\n",
    "plt.plot(history_opt.history['accuracy'], label='Train')\n",
    "plt.plot(history_opt.history['val_accuracy'], label='Validation')\n",
    "plt.title(\"Fully Optimized CNN Model\")\n",
    "plt.xlabel(\"Epoch\")\n",
    "plt.ylabel(\"Accuracy\")\n",
    "plt.legend()\n",
    "plt.grid(True)\n",
    "\n",
    "plt.tight_layout()\n",
    "plt.show()\n",
    "\n",
    "# --- Summary table ---\n",
    "import pandas as pd\n",
    "\n",
    "results = pd.DataFrame({\n",
    "    \"Model\": [\"Pre-Tuned\", \"Optimized\"],\n",
    "    \"Accuracy (%)\": [acc_pre, acc_opt],\n",
    "    \"Precision (%)\": [prec_pre, prec_opt],\n",
    "    \"Time Taken (s)\": [time_pre, time_opt]\n",
    "})\n",
    "\n",
    "print(\"\\nFinal Optimized CNN Model Results:\")\n",
    "print(results.round(2))\n"
   ]
  },
  {
   "cell_type": "code",
   "execution_count": null,
   "metadata": {
    "colab": {
     "base_uri": "https://localhost:8080/",
     "height": 517
    },
    "executionInfo": {
     "elapsed": 67178,
     "status": "ok",
     "timestamp": 1757803634061,
     "user": {
      "displayName": "Mahir Kardame",
      "userId": "03364185381333698645"
     },
     "user_tz": -60
    },
    "id": "OtFp06_TP7Yb",
    "outputId": "03cfa77a-1b0c-4aa1-8013-5bc52b2884b7"
   },
   "outputs": [
    {
     "data": {
      "text/html": [
       "\n",
       "     <input type=\"file\" id=\"files-0a9c67b1-3694-47fd-9e73-cc94736568fb\" name=\"files[]\" multiple disabled\n",
       "        style=\"border:none\" />\n",
       "     <output id=\"result-0a9c67b1-3694-47fd-9e73-cc94736568fb\">\n",
       "      Upload widget is only available when the cell has been executed in the\n",
       "      current browser session. Please rerun this cell to enable.\n",
       "      </output>\n",
       "      <script>// Copyright 2017 Google LLC\n",
       "//\n",
       "// Licensed under the Apache License, Version 2.0 (the \"License\");\n",
       "// you may not use this file except in compliance with the License.\n",
       "// You may obtain a copy of the License at\n",
       "//\n",
       "//      http://www.apache.org/licenses/LICENSE-2.0\n",
       "//\n",
       "// Unless required by applicable law or agreed to in writing, software\n",
       "// distributed under the License is distributed on an \"AS IS\" BASIS,\n",
       "// WITHOUT WARRANTIES OR CONDITIONS OF ANY KIND, either express or implied.\n",
       "// See the License for the specific language governing permissions and\n",
       "// limitations under the License.\n",
       "\n",
       "/**\n",
       " * @fileoverview Helpers for google.colab Python module.\n",
       " */\n",
       "(function(scope) {\n",
       "function span(text, styleAttributes = {}) {\n",
       "  const element = document.createElement('span');\n",
       "  element.textContent = text;\n",
       "  for (const key of Object.keys(styleAttributes)) {\n",
       "    element.style[key] = styleAttributes[key];\n",
       "  }\n",
       "  return element;\n",
       "}\n",
       "\n",
       "// Max number of bytes which will be uploaded at a time.\n",
       "const MAX_PAYLOAD_SIZE = 100 * 1024;\n",
       "\n",
       "function _uploadFiles(inputId, outputId) {\n",
       "  const steps = uploadFilesStep(inputId, outputId);\n",
       "  const outputElement = document.getElementById(outputId);\n",
       "  // Cache steps on the outputElement to make it available for the next call\n",
       "  // to uploadFilesContinue from Python.\n",
       "  outputElement.steps = steps;\n",
       "\n",
       "  return _uploadFilesContinue(outputId);\n",
       "}\n",
       "\n",
       "// This is roughly an async generator (not supported in the browser yet),\n",
       "// where there are multiple asynchronous steps and the Python side is going\n",
       "// to poll for completion of each step.\n",
       "// This uses a Promise to block the python side on completion of each step,\n",
       "// then passes the result of the previous step as the input to the next step.\n",
       "function _uploadFilesContinue(outputId) {\n",
       "  const outputElement = document.getElementById(outputId);\n",
       "  const steps = outputElement.steps;\n",
       "\n",
       "  const next = steps.next(outputElement.lastPromiseValue);\n",
       "  return Promise.resolve(next.value.promise).then((value) => {\n",
       "    // Cache the last promise value to make it available to the next\n",
       "    // step of the generator.\n",
       "    outputElement.lastPromiseValue = value;\n",
       "    return next.value.response;\n",
       "  });\n",
       "}\n",
       "\n",
       "/**\n",
       " * Generator function which is called between each async step of the upload\n",
       " * process.\n",
       " * @param {string} inputId Element ID of the input file picker element.\n",
       " * @param {string} outputId Element ID of the output display.\n",
       " * @return {!Iterable<!Object>} Iterable of next steps.\n",
       " */\n",
       "function* uploadFilesStep(inputId, outputId) {\n",
       "  const inputElement = document.getElementById(inputId);\n",
       "  inputElement.disabled = false;\n",
       "\n",
       "  const outputElement = document.getElementById(outputId);\n",
       "  outputElement.innerHTML = '';\n",
       "\n",
       "  const pickedPromise = new Promise((resolve) => {\n",
       "    inputElement.addEventListener('change', (e) => {\n",
       "      resolve(e.target.files);\n",
       "    });\n",
       "  });\n",
       "\n",
       "  const cancel = document.createElement('button');\n",
       "  inputElement.parentElement.appendChild(cancel);\n",
       "  cancel.textContent = 'Cancel upload';\n",
       "  const cancelPromise = new Promise((resolve) => {\n",
       "    cancel.onclick = () => {\n",
       "      resolve(null);\n",
       "    };\n",
       "  });\n",
       "\n",
       "  // Wait for the user to pick the files.\n",
       "  const files = yield {\n",
       "    promise: Promise.race([pickedPromise, cancelPromise]),\n",
       "    response: {\n",
       "      action: 'starting',\n",
       "    }\n",
       "  };\n",
       "\n",
       "  cancel.remove();\n",
       "\n",
       "  // Disable the input element since further picks are not allowed.\n",
       "  inputElement.disabled = true;\n",
       "\n",
       "  if (!files) {\n",
       "    return {\n",
       "      response: {\n",
       "        action: 'complete',\n",
       "      }\n",
       "    };\n",
       "  }\n",
       "\n",
       "  for (const file of files) {\n",
       "    const li = document.createElement('li');\n",
       "    li.append(span(file.name, {fontWeight: 'bold'}));\n",
       "    li.append(span(\n",
       "        `(${file.type || 'n/a'}) - ${file.size} bytes, ` +\n",
       "        `last modified: ${\n",
       "            file.lastModifiedDate ? file.lastModifiedDate.toLocaleDateString() :\n",
       "                                    'n/a'} - `));\n",
       "    const percent = span('0% done');\n",
       "    li.appendChild(percent);\n",
       "\n",
       "    outputElement.appendChild(li);\n",
       "\n",
       "    const fileDataPromise = new Promise((resolve) => {\n",
       "      const reader = new FileReader();\n",
       "      reader.onload = (e) => {\n",
       "        resolve(e.target.result);\n",
       "      };\n",
       "      reader.readAsArrayBuffer(file);\n",
       "    });\n",
       "    // Wait for the data to be ready.\n",
       "    let fileData = yield {\n",
       "      promise: fileDataPromise,\n",
       "      response: {\n",
       "        action: 'continue',\n",
       "      }\n",
       "    };\n",
       "\n",
       "    // Use a chunked sending to avoid message size limits. See b/62115660.\n",
       "    let position = 0;\n",
       "    do {\n",
       "      const length = Math.min(fileData.byteLength - position, MAX_PAYLOAD_SIZE);\n",
       "      const chunk = new Uint8Array(fileData, position, length);\n",
       "      position += length;\n",
       "\n",
       "      const base64 = btoa(String.fromCharCode.apply(null, chunk));\n",
       "      yield {\n",
       "        response: {\n",
       "          action: 'append',\n",
       "          file: file.name,\n",
       "          data: base64,\n",
       "        },\n",
       "      };\n",
       "\n",
       "      let percentDone = fileData.byteLength === 0 ?\n",
       "          100 :\n",
       "          Math.round((position / fileData.byteLength) * 100);\n",
       "      percent.textContent = `${percentDone}% done`;\n",
       "\n",
       "    } while (position < fileData.byteLength);\n",
       "  }\n",
       "\n",
       "  // All done.\n",
       "  yield {\n",
       "    response: {\n",
       "      action: 'complete',\n",
       "    }\n",
       "  };\n",
       "}\n",
       "\n",
       "scope.google = scope.google || {};\n",
       "scope.google.colab = scope.google.colab || {};\n",
       "scope.google.colab._files = {\n",
       "  _uploadFiles,\n",
       "  _uploadFilesContinue,\n",
       "};\n",
       "})(self);\n",
       "</script> "
      ],
      "text/plain": [
       "<IPython.core.display.HTML object>"
      ]
     },
     "metadata": {},
     "output_type": "display_data"
    },
    {
     "name": "stdout",
     "output_type": "stream",
     "text": [
      "Saving BR329_SFP.jpg to BR329_SFP.jpg\n",
      "\u001b[1m1/1\u001b[0m \u001b[32m━━━━━━━━━━━━━━━━━━━━\u001b[0m\u001b[37m\u001b[0m \u001b[1m0s\u001b[0m 38ms/step\n",
      "Predicted digit: 7\n"
     ]
    },
    {
     "data": {
      "image/png": "[encoded data removed]",
      "text/plain": [
       "<Figure size 640x480 with 1 Axes>"
      ]
     },
     "metadata": {},
     "output_type": "display_data"
    }
   ],
   "source": [
    "from google.colab import files\n",
    "\n",
    "# Upload your digit image\n",
    "uploaded = files.upload()\n",
    "\n",
    "for filename in uploaded.keys():\n",
    "    # Load in grayscale\n",
    "    img = Image.open(filename).convert('L')\n",
    "    img = np.array(img)\n",
    "\n",
    "    # Resize to 28x28 (MNIST size)\n",
    "    img_resized = cv2.resize(img, (28, 28))\n",
    "\n",
    "    # Invert if background is white (MNIST expects black background, white digit)\n",
    "    img_resized = 255 - img_resized\n",
    "\n",
    "    # Normalize to [0,1]\n",
    "    img_normalized = img_resized / 255.0\n",
    "\n",
    "    # Reshape for model: (1, 28, 28)\n",
    "    img_input = np.expand_dims(img_normalized, axis=0)\n",
    "\n",
    "    # Predict\n",
    "    prediction = model.predict(img_input)\n",
    "    print(\"Predicted digit:\", prediction.argmax())\n",
    "\n",
    "    # Show image\n",
    "    plt.imshow(img_resized, cmap='gray')\n",
    "    plt.title(f\"Prediction: {prediction.argmax()}\")\n",
    "    plt.axis('off')\n",
    "    plt.show()\n"
   ]
  }
 ],
 "metadata": {
  "colab": {
   "authorship_tag": "ABX9TyPhsCjaj357y5IXJ7+hTwks",
   "provenance": []
  },
  "kernelspec": {
   "display_name": "Python 3",
   "name": "python3"
  },
  "language_info": {
   "codemirror_mode": {
    "name": "ipython",
    "version": 3
   },
   "file_extension": ".py",
   "mimetype": "text/x-python",
   "name": "python",
   "nbconvert_exporter": "python",
   "pygments_lexer": "ipython3",
   "version": "3.11.9"
  }
 },
 "nbformat": 4,
 "nbformat_minor": 0
}
